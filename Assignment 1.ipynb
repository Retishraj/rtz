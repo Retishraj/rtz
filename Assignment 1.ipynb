{
 "cells": [
  {
   "cell_type": "code",
   "execution_count": 268,
   "metadata": {},
   "outputs": [
    {
     "name": "stdout",
     "output_type": "stream",
     "text": [
      "Enter the max limit:10\n",
      "sum = 55\n"
     ]
    }
   ],
   "source": [
    "## Program to print the sum of numbers from 0 to the limit entered by the user\n",
    "\n",
    "x= int(input (\"Enter the max limit:\"))\n",
    "j=0\n",
    "\n",
    "while(x >= 0) :\n",
    "    j=j+x\n",
    "    x=x-1\n",
    "\n",
    "print(\"sum =\",j)"
   ]
  },
  {
   "cell_type": "code",
   "execution_count": 99,
   "metadata": {},
   "outputs": [
    {
     "name": "stdout",
     "output_type": "stream",
     "text": [
      "[2002, 2009, 2016, 2023, 2037, 2044, 2051, 2058, 2072, 2079, 2086, 2093, 2107, 2114, 2121, 2128, 2142, 2149, 2156, 2163, 2177, 2184, 2191, 2198, 2212, 2219, 2226, 2233, 2247, 2254, 2261, 2268, 2282, 2289, 2296, 2303, 2317, 2324, 2331, 2338, 2352, 2359, 2366, 2373, 2387, 2394, 2401, 2408, 2422, 2429, 2436, 2443, 2457, 2464, 2471, 2478, 2492, 2499, 2506, 2513, 2527, 2534, 2541, 2548, 2562, 2569, 2576, 2583, 2597, 2604, 2611, 2618, 2632, 2639, 2646, 2653, 2667, 2674, 2681, 2688, 2702, 2709, 2716, 2723, 2737, 2744, 2751, 2758, 2772, 2779, 2786, 2793, 2807, 2814, 2821, 2828, 2842, 2849, 2856, 2863, 2877, 2884, 2891, 2898, 2912, 2919, 2926, 2933, 2947, 2954, 2961, 2968, 2982, 2989, 2996, 3003, 3017, 3024, 3031, 3038, 3052, 3059, 3066, 3073, 3087, 3094, 3101, 3108, 3122, 3129, 3136, 3143, 3157, 3164, 3171, 3178, 3192, 3199]\n"
     ]
    }
   ],
   "source": [
    "## Print the number divisible by 7 but not divisble by 5\n",
    "\n",
    "a=[]\n",
    "##print(range (2000,3200))\n",
    "\n",
    "for x in range(2000,3201) :\n",
    "    if(x % 7 == 0) and (x % 5 != 0) :\n",
    "        a.append(x)\n",
    "print(a)\n",
    "\n"
   ]
  },
  {
   "cell_type": "code",
   "execution_count": 155,
   "metadata": {},
   "outputs": [
    {
     "name": "stdout",
     "output_type": "stream",
     "text": [
      "enter first name : Retish\n",
      "enter last name : Rajan\n"
     ]
    },
    {
     "data": {
      "text/plain": [
       "'najaR hsiteR'"
      ]
     },
     "execution_count": 155,
     "metadata": {},
     "output_type": "execute_result"
    }
   ],
   "source": [
    "## Print Name in reverse order\n",
    "\n",
    "fst_n = input(\"enter first name : \")\n",
    "lst_n = input(\"enter last name : \")\n",
    "\n",
    "full_n = fst_n+ \" \"+lst_n \n",
    "full_n[::-1]\n"
   ]
  },
  {
   "cell_type": "code",
   "execution_count": 266,
   "metadata": {},
   "outputs": [
    {
     "name": "stdout",
     "output_type": "stream",
     "text": [
      "904.3199999999999\n"
     ]
    }
   ],
   "source": [
    "## Print volume of sphere\n",
    "\n",
    "r = 12/2\n",
    "\n",
    "print(4/3*3.14*(r**3))\n",
    "\n"
   ]
  },
  {
   "cell_type": "code",
   "execution_count": 265,
   "metadata": {},
   "outputs": [
    {
     "name": "stdout",
     "output_type": "stream",
     "text": [
      "Enter the numbers in csv format : 1, 23, 554, 2121,211, 65\n",
      "string list:  ['1', ' 23', ' 554', ' 2121', '211', ' 65']\n",
      "numeric list:  [1, 23, 554, 2121, 211, 65]\n"
     ]
    }
   ],
   "source": [
    "# Print the numbers from console as list \n",
    "\n",
    "a = input(\"Enter the numbers in csv format : \")\n",
    "c=[]\n",
    "\n",
    "## list as string\n",
    "b= a.split(\",\")\n",
    "print (\"string list: \", b)\n",
    "\n",
    "## list as integer\n",
    "for i in range(len(b)) :\n",
    "    x = int(b[i])\n",
    "    c.append(x)\n",
    "print (\"numeric list: \", c)\n",
    " "
   ]
  },
  {
   "cell_type": "code",
   "execution_count": 153,
   "metadata": {},
   "outputs": [
    {
     "name": "stdout",
     "output_type": "stream",
     "text": [
      "\r\n",
      "*\r\n",
      "**\r\n",
      "***\r\n",
      "****\r\n",
      "*****\r\n",
      "****\r\n",
      "***\r\n",
      "**\r\n",
      "*\r\n"
     ]
    }
   ],
   "source": [
    "# print pattern\n",
    "\n",
    "for i in range(6) :\n",
    "    for j in range(i) :\n",
    "        print(\"*\", end=\"\")\n",
    "    print(\"\\r\")\n",
    "\n",
    "for k in range(j) :\n",
    "    for i in range(j) :\n",
    "        print(\"*\", end =\"\")\n",
    "    j=j-1\n",
    "    print(\"\\r\") \n",
    "    \n",
    "    \n"
   ]
  },
  {
   "cell_type": "code",
   "execution_count": 157,
   "metadata": {},
   "outputs": [
    {
     "name": "stdout",
     "output_type": "stream",
     "text": [
      "enter the string : AcadGild\n"
     ]
    },
    {
     "data": {
      "text/plain": [
       "'dliGdacA'"
      ]
     },
     "execution_count": 157,
     "metadata": {},
     "output_type": "execute_result"
    }
   ],
   "source": [
    "## Print string in reverse order\n",
    "\n",
    "stng = input(\"enter the string : \")\n",
    "stng[::-1]"
   ]
  },
  {
   "cell_type": "code",
   "execution_count": 217,
   "metadata": {},
   "outputs": [
    {
     "name": "stdout",
     "output_type": "stream",
     "text": [
      "WE, THE PEOPLE OF INDIA,\n",
      "\t  having solemnly resolved to constitute India into a SOVEREIGN,!\n",
      "\t\t  SOCIALIST, SECULAR, DEMOCRATIC REPUBLIC\n",
      "\t\t   and to secure to all its citizens\n"
     ]
    }
   ],
   "source": [
    "## string format \n",
    "\n",
    "strng = 'WE, THE PEOPLE OF INDIA, having solemnly resolved to constitute India into a SOVEREIGN, SOCIALIST, SECULAR, DEMOCRATIC REPUBLIC and to secure to all its citizens'\n",
    "\n",
    "\n",
    "a=strng.find(\"INDIA\")\n",
    "ai = a+len(\"INDIA\")+1\n",
    "print(strng[0:ai])\n",
    "\n",
    "b=strng.find(\"SOVEREIGN\")\n",
    "bi = b+len(\"SOVEREIGN\")+1\n",
    "print(\"\\t\", strng[ai:bi]+\"!\")\n",
    "\n",
    "c=strng.find(\"REPUBLIC\")\n",
    "ci = c+len(\"REPUBLIC\")\n",
    "print(\"\\t\"\"\\t\", strng[bi:ci])\n",
    "\n",
    "print(\"\\t\"\"\\t\"\" \",strng[ci:len(strng)])\n",
    "\n"
   ]
  }
 ],
 "metadata": {
  "kernelspec": {
   "display_name": "Python 3",
   "language": "python",
   "name": "python3"
  },
  "language_info": {
   "codemirror_mode": {
    "name": "ipython",
    "version": 3
   },
   "file_extension": ".py",
   "mimetype": "text/x-python",
   "name": "python",
   "nbconvert_exporter": "python",
   "pygments_lexer": "ipython3",
   "version": "3.7.6"
  }
 },
 "nbformat": 4,
 "nbformat_minor": 4
}
